{
 "cells": [
  {
   "cell_type": "code",
   "execution_count": null,
   "metadata": {
    "collapsed": false
   },
   "outputs": [],
   "source": [
    "import numpy as np\n",
    "import pandas as pd\n",
    "from tag_wave_direction import *\n",
    "import matplotlib.pyplot as plt\n",
    "\n",
    "\n",
    "# market = pd.read_csv(\"~/cs_market.csv\", parse_dates=[\"date\"], dtype={\"code\": str})\n",
    "market = pd.read_csv(\"E:\\market_data/cs_market.csv\", parse_dates=[\"date\"], dtype={\"code\": str})\n",
    "\n",
    "ohlcv = market.drop([\"Unnamed: 0\", \"total_turnover\", \"limit_up\", \"limit_down\"], axis=1)\n",
    "\n",
    "ohlcv = ohlcv.set_index('date')\n",
    "\n",
    "test_data = ohlcv[ohlcv[\"code\"] == \"000725.XSHE\"].drop(\"code\", axis=1).tail(50)\n",
    "test_data['close'].plot(figsize=(21, 7))\n",
    "plt.show()\n",
    "\n",
    "max_return_threshold = 0.1\n",
    "return_per_count_threshold = 0.01\n",
    "withdraw_threshold = 0.03\n",
    "# x = tag_wave_direction(test_data, max_return_threshold, return_per_count_threshold, withdraw_threshold)\n",
    "\n",
    "\n",
    "# fig, ax = plt.subplots(1, figsize=(21, 7))\n",
    "# test1.plot(x='index', y='close', figsize=(21, 7), ax=ax)\n",
    "# test1[test1['result']>0].plot.scatter(x='index', y='close', s=30, c='r', figsize=(21, 7), ax=ax)\n",
    "# test1[test1['result']<0].plot.scatter(x='index', y='close', s=30, c='g', figsize=(21, 7), ax=ax)"
   ]
  },
  {
   "cell_type": "code",
   "execution_count": null,
   "metadata": {
    "collapsed": false
   },
   "outputs": [],
   "source": [
    "test_data.head()"
   ]
  },
  {
   "cell_type": "code",
   "execution_count": null,
   "metadata": {
    "collapsed": true
   },
   "outputs": [],
   "source": [
    "test_data['pct_chg'] = test_data['close'] / test_data['close'].shift(1) - 1"
   ]
  },
  {
   "cell_type": "code",
   "execution_count": null,
   "metadata": {
    "collapsed": false
   },
   "outputs": [],
   "source": [
    "test_data"
   ]
  },
  {
   "cell_type": "code",
   "execution_count": null,
   "metadata": {
    "collapsed": true
   },
   "outputs": [],
   "source": []
  }
 ],
 "metadata": {
  "kernelspec": {
   "display_name": "Python 2",
   "language": "python",
   "name": "python2"
  },
  "language_info": {
   "codemirror_mode": {
    "name": "ipython",
    "version": 2
   },
   "file_extension": ".py",
   "mimetype": "text/x-python",
   "name": "python",
   "nbconvert_exporter": "python",
   "pygments_lexer": "ipython2",
   "version": "2.7.10"
  }
 },
 "nbformat": 4,
 "nbformat_minor": 2
}
