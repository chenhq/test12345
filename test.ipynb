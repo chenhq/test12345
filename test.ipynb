{
 "cells": [
  {
   "cell_type": "code",
   "execution_count": null,
   "metadata": {
    "collapsed": true
   },
   "outputs": [],
   "source": [
    "%matplotlib inline\n",
    "import matplotlib.pylab as plt\n",
    "from trade_signal import *\n",
    "from stratege.ma import *\n",
    "from stratege.dummy import *\n",
    "from stratege.close_stratege import *\n",
    "from stratege.breakthrough import *\n",
    "from signal_by_wave import *\n",
    "from talib.abstract import *"
   ]
  },
  {
   "cell_type": "code",
   "execution_count": null,
   "metadata": {
    "collapsed": true
   },
   "outputs": [],
   "source": [
    "# market = pd.read_csv(\"~/cs_market.csv\", parse_dates=[\"date\"], dtype={\"code\": str})\n",
    "\n",
    "market = pd.read_csv(\"E:\\market_data/cs_market.csv\", parse_dates=[\"date\"], dtype={\"code\": str})\n",
    "\n",
    "ohlcv = market.drop([\"Unnamed: 0\", \"total_turnover\", \"limit_up\", \"limit_down\"], axis=1)\n",
    "\n",
    "ohlcv = ohlcv.set_index('date')\n"
   ]
  },
  {
   "cell_type": "code",
   "execution_count": null,
   "metadata": {
    "collapsed": false
   },
   "outputs": [],
   "source": [
    "zz500 = ohlcv[ohlcv[\"code\"] == \"601818.XSHG\"].drop(\"code\", axis=1)\n",
    "\n",
    "zz500['close'].plot(figsize=(21, 7))"
   ]
  },
  {
   "cell_type": "code",
   "execution_count": null,
   "metadata": {
    "collapsed": true
   },
   "outputs": [],
   "source": [
    "zz500.iloc[0:1]['close'].values"
   ]
  },
  {
   "cell_type": "code",
   "execution_count": null,
   "metadata": {
    "collapsed": true
   },
   "outputs": [],
   "source": [
    "# f_double_ma_signal = double_ma_stratege(zz500, 5, 30)\n",
    "f_signal_by_wave = signal_by_wave(zz500, 30, 0.05)\n",
    "# f_break_extreme_signal = break_extremal_point(zz500)\n",
    "# i_double_ma_signal = signal_full2increment(f_break_extreme_signal)\n",
    "i_signal_by_wave = signal_full2increment(f_signal_by_wave)"
   ]
  },
  {
   "cell_type": "code",
   "execution_count": null,
   "metadata": {
    "collapsed": true
   },
   "outputs": [],
   "source": [
    "# signal_compare = pd.DataFrame(index=f_double_ma_signal.index)\n",
    "signal_compare = pd.concat([f_signal_by_wave, i_signal_by_wave], axis=1)\n",
    "signal_compare.columns = ['full', 'increment']\n",
    "signal_compare.plot(figsize=(21, 7))"
   ]
  },
  {
   "cell_type": "code",
   "execution_count": null,
   "metadata": {
    "collapsed": true
   },
   "outputs": [],
   "source": [
    "zz500.head()"
   ]
  },
  {
   "cell_type": "code",
   "execution_count": null,
   "metadata": {
    "collapsed": true
   },
   "outputs": [],
   "source": [
    "open_signal = i_signal_by_wave\n",
    "ohlcv = zz500\n",
    "close_signal = close_signal_generate(ohlcv, open_signal, close_MaxLoss_ATR, loss_pct=0.03, atr_times=1, atr_timeperiod=10)"
   ]
  },
  {
   "cell_type": "code",
   "execution_count": null,
   "metadata": {
    "collapsed": true
   },
   "outputs": [],
   "source": [
    "signal_compare['close_signal'] = close_signal"
   ]
  },
  {
   "cell_type": "code",
   "execution_count": null,
   "metadata": {
    "collapsed": true
   },
   "outputs": [],
   "source": [
    "signal_compare.fillna(0).plot(figsize=(21, 7))"
   ]
  },
  {
   "cell_type": "code",
   "execution_count": null,
   "metadata": {
    "collapsed": true
   },
   "outputs": [],
   "source": [
    "price_signal = pd.concat([ohlcv['close'], signal_compare['increment'], signal_compare['close_signal']], axis=1)"
   ]
  },
  {
   "cell_type": "code",
   "execution_count": null,
   "metadata": {
    "collapsed": true
   },
   "outputs": [],
   "source": [
    "price_signal = price_signal.reset_index()\n",
    "price_signal = price_signal.reset_index()"
   ]
  },
  {
   "cell_type": "code",
   "execution_count": null,
   "metadata": {
    "collapsed": true
   },
   "outputs": [],
   "source": [
    "fig, ax = plt.subplots(1, figsize=(21, 7))\n",
    "price_signal.plot(x='index', y='close', figsize=(21, 7), ax=ax)\n",
    "price_signal[price_signal['increment']>0].plot.scatter(x='index', y='close', s=30, c='r', figsize=(21, 7), ax=ax)\n",
    "price_signal[price_signal['close_signal']<0].plot.scatter(x='index', y='close', s=30, c='g', figsize=(21, 7), ax=ax)"
   ]
  },
  {
   "cell_type": "code",
   "execution_count": null,
   "metadata": {
    "collapsed": true
   },
   "outputs": [],
   "source": [
    "def angle_degree(x, y):\n",
    "    return np.arctan2(x, y)\n",
    "\n",
    "\n",
    "def acceleration(alpha, drag_ratio):\n",
    "    a = np.sin(alpha) - np.cos(alpha) * drag_ratio\n",
    "    return a\n",
    "\n",
    "\n",
    "def velocity(v0, a, s):\n",
    "    vt_square = np.square(v0) + 2 * a * s\n",
    "    if vt_square < 0:\n",
    "        vt = 0\n",
    "    else:\n",
    "        vt = np.sqrt(vt_square)\n",
    "    return vt\n"
   ]
  },
  {
   "cell_type": "code",
   "execution_count": null,
   "metadata": {
    "collapsed": false
   },
   "outputs": [],
   "source": [
    "zz500 = ohlcv[ohlcv[\"code\"] == \"000630.XSHE\"].drop(\"code\", axis=1).tail(250)\n",
    "zz500['close'].plot(figsize=(21, 7))"
   ]
  },
  {
   "cell_type": "code",
   "execution_count": null,
   "metadata": {
    "collapsed": true
   },
   "outputs": [],
   "source": [
    "zz500['close'] = zz500['close'].rolling(2).mean()\n",
    "pct_change = (zz500['close'] / zz500['close'].shift(1) - 1).fillna(0)\n",
    "pct_change.name = \"pct_chg\""
   ]
  },
  {
   "cell_type": "code",
   "execution_count": null,
   "metadata": {
    "collapsed": true
   },
   "outputs": [],
   "source": [
    "test = pd.concat([zz500['close'], pct_change], axis=1)"
   ]
  },
  {
   "cell_type": "code",
   "execution_count": null,
   "metadata": {
    "collapsed": true
   },
   "outputs": [],
   "source": [
    "degree = 20\n",
    "v_init_timeperiod = 2\n",
    "v_threshod = 1.2\n",
    "window = 6"
   ]
  },
  {
   "cell_type": "code",
   "execution_count": null,
   "metadata": {
    "collapsed": true
   },
   "outputs": [],
   "source": [
    "std = pct_change.std()\n",
    "drag_ratio = np.tan(np.pi * degree / 360)\n",
    "v_init = np.sqrt(2 * drag_ratio * std * v_init_timeperiod)\n",
    "v0 = v_init"
   ]
  },
  {
   "cell_type": "code",
   "execution_count": null,
   "metadata": {
    "collapsed": true
   },
   "outputs": [],
   "source": [
    "# test1 = test.copy()\n",
    "# test1['result'] = np.nan\n",
    "# for idx, row in test1.iterrows():\n",
    "#     alpha = angle_degree(row['pct_chg'], std)\n",
    "#     a = acceleration(alpha, drag_ratio)\n",
    "#     s = std if alpha==0 else std/np.cos(alpha)\n",
    "#     vt = velocity(v0, a, s)\n",
    "#     if vt > v_threshod * v_init:\n",
    "#         test1.loc[idx, 'result'] = 1\n",
    "#         v0 = vt\n",
    "#     elif vt > 0:\n",
    "#         test1.loc[idx, 'result'] = 0\n",
    "#         v0 = vt\n",
    "#     else:\n",
    "#         v0 = v_init\n",
    "#         test1.loc[idx, 'result'] = -1"
   ]
  },
  {
   "cell_type": "code",
   "execution_count": null,
   "metadata": {
    "collapsed": true
   },
   "outputs": [],
   "source": [
    "hights = np.array([1, 2, 3, 4])"
   ]
  },
  {
   "cell_type": "code",
   "execution_count": null,
   "metadata": {
    "collapsed": true
   },
   "outputs": [],
   "source": [
    "my_cum_velocity = cum_velocity_bind(std, v_init, drag_ratio)"
   ]
  },
  {
   "cell_type": "code",
   "execution_count": null,
   "metadata": {
    "collapsed": true
   },
   "outputs": [],
   "source": [
    "def cum_velocity(hights, length, v_init, drag_ratio):\n",
    "    v0 = v_init\n",
    "    for i in range(len(hights)):\n",
    "        alpha = angle_degree(hights[i], length)\n",
    "        a = acceleration(alpha, drag_ratio)\n",
    "        s = length/np.cos(alpha)\n",
    "        vt = velocity(v0, a, s)\n",
    "        if vt > 0:\n",
    "            v0 = vt\n",
    "        else:\n",
    "            vt = 0\n",
    "            break\n",
    "    return vt"
   ]
  },
  {
   "cell_type": "code",
   "execution_count": null,
   "metadata": {
    "collapsed": true
   },
   "outputs": [],
   "source": [
    "def cum_velocity_bind(length, v_init, drag_ratio):\n",
    "    def cum_velocity_hights(hights):\n",
    "        return cum_velocity(hights, length, v_init, drag_ratio)\n",
    "    return cum_velocity_hights"
   ]
  },
  {
   "cell_type": "code",
   "execution_count": null,
   "metadata": {
    "collapsed": true
   },
   "outputs": [],
   "source": [
    "test1 = test.copy()\n",
    "test1['result'] = np.nan"
   ]
  },
  {
   "cell_type": "code",
   "execution_count": null,
   "metadata": {
    "collapsed": false
   },
   "outputs": [],
   "source": [
    "test1.head()"
   ]
  },
  {
   "cell_type": "code",
   "execution_count": null,
   "metadata": {
    "collapsed": true
   },
   "outputs": [],
   "source": [
    "test1['result'] = test1['pct_chg'].rolling(2).apply(my_cum_velocity)"
   ]
  },
  {
   "cell_type": "code",
   "execution_count": null,
   "metadata": {
    "collapsed": false
   },
   "outputs": [],
   "source": [
    "test1 = test1.reset_index().reset_index()\n",
    "test1.head()"
   ]
  },
  {
   "cell_type": "code",
   "execution_count": null,
   "metadata": {
    "collapsed": false
   },
   "outputs": [],
   "source": [
    "fig, ax = plt.subplots(1, figsize=(21, 7))\n",
    "test1.plot(x='index', y='close', figsize=(21, 7), ax=ax)\n",
    "test1['close'].rolling(10).mean().plot(ax=ax)\n",
    "# BBANDS(test).plot(ax=ax)\n",
    "test1[test1['result']>0].shift(1).plot.scatter(x='index', y='close', s=30, c='r', figsize=(21, 7), ax=ax)\n",
    "test1[test1['result']==0].plot.scatter(x='index', y='close', s=30, c='b', figsize=(21, 7), ax=ax)\n",
    "# test1[test1['result']<0].plot.scatter(x='index', y='close', s=30, c='g', figsize=(21, 7), ax=ax)"
   ]
  },
  {
   "cell_type": "code",
   "execution_count": null,
   "metadata": {
    "collapsed": true
   },
   "outputs": [],
   "source": [
    "for idx in range(len(test1)):\n",
    "    if idx < window:\n",
    "        continue\n",
    "    v0 = v_init\n",
    "    for i in range(-window, 0):\n",
    "        alpha = angle_degree(test1.iloc[idx+i]['pct_chg'], std)\n",
    "        a = acceleration(alpha, drag_ratio)\n",
    "        s = std if alpha==0 else std/np.cos(alpha)\n",
    "        vt = velocity(v0, a, s)\n",
    "        if vt > 0:\n",
    "            v0 = vt\n",
    "        else:\n",
    "            v0 = v_init\n",
    "        \n",
    "    if vt > v_threshod * v_init:\n",
    "        test1.loc[test1.index.values[idx]]['result'] = 1\n",
    "    elif vt > 0:\n",
    "        test1.loc[test1.index.values[idx]]['result'] = 0\n",
    "    else:\n",
    "        test1.loc[test1.index.values[idx]]['result'] = -1"
   ]
  },
  {
   "cell_type": "code",
   "execution_count": null,
   "metadata": {
    "collapsed": false
   },
   "outputs": [],
   "source": [
    "test1 = test1.reset_index().reset_index()\n",
    "test.head()"
   ]
  },
  {
   "cell_type": "code",
   "execution_count": null,
   "metadata": {
    "collapsed": false
   },
   "outputs": [],
   "source": [
    "fig, ax = plt.subplots(1, figsize=(21, 7))\n",
    "test1.plot(x='index', y='close', figsize=(21, 7), ax=ax)\n",
    "test1[test1['result']>0].plot.scatter(x='index', y='close', s=30, c='r', figsize=(21, 7), ax=ax)\n",
    "# test1[test1['result']==0].plot.scatter(x='index', y='close', s=30, c='b', figsize=(21, 7), ax=ax)\n",
    "# test1[test1['result']<0].plot.scatter(x='index', y='close', s=30, c='g', figsize=(21, 7), ax=ax)"
   ]
  },
  {
   "cell_type": "code",
   "execution_count": null,
   "metadata": {
    "collapsed": true
   },
   "outputs": [],
   "source": [
    "import numpy as np\n",
    "\n",
    "max_return_threshold = 0.1\n",
    "return_per_count_threshold = 0.002\n",
    "withdraw_threshold = 0.03\n",
    "i = 0\n",
    "\n",
    "\n",
    "def tag_wave_direction(ohlcv, max_return_threshold, return_per_count_threshold, withdraw_threshold):\n",
    "    ohlcv['direction'] = np.nan\n",
    "    i = 0\n",
    "    while i < len(ohlcv):\n",
    "        # 波段保护的周期数量\n",
    "        count = 1\n",
    "        price = ohlcv.iloc[i]['open']\n",
    "        if ohlcv.iloc[i]['close'] > ohlcv.iloc[i]['open']:\n",
    "            direction = 1\n",
    "        elif ohlcv.iloc[i]['close'] < ohlcv.iloc[i]['open']:\n",
    "            direction = -1\n",
    "        else:\n",
    "            i += 1\n",
    "            continue\n",
    "\n",
    "        min_price = price\n",
    "        max_price = price\n",
    "        argmin = i\n",
    "        argmax = i\n",
    "        j = i + 1\n",
    "        while j < len(ohlcv):\n",
    "            count += 1\n",
    "            new_price = ohlcv.iloc[j]['close']\n",
    "\n",
    "            if new_price > max_price:\n",
    "                max_price = new_price\n",
    "                argmax = j\n",
    "\n",
    "            if new_price < min_price:\n",
    "                min_price = new_price\n",
    "                argmin = j\n",
    "\n",
    "            returns = (new_price / price - 1) * direction\n",
    "            return_per_count = returns / count\n",
    "\n",
    "            if direction == 1:\n",
    "                max_return = (max_price / price - 1)\n",
    "                withdraw = (max_price - new_price) / price\n",
    "            elif direction == -1:\n",
    "                max_return = (1 - min_price / price)\n",
    "                withdraw = (new_price - min_price) / price\n",
    "            else:\n",
    "                max_return = 0\n",
    "                withdraw = 0\n",
    "\n",
    "            # 波段趋势太小，未满足return_per_count_threshold\n",
    "            if return_per_count < return_per_count_threshold:\n",
    "                i += 1\n",
    "            break\n",
    "\n",
    "        # 波段因为最大回撤结束\n",
    "        if withdraw > withdraw_threshold:\n",
    "            # 波段太小，未满足max_return_threshold\n",
    "            if max_return < max_return_threshold:\n",
    "                i += 1\n",
    "                break\n",
    "            else:\n",
    "                if direction == 1:\n",
    "                    max_return_pos = argmax\n",
    "                elif direction == -1:\n",
    "                    max_return_pos = argmin\n",
    "                else:\n",
    "                    i += 1\n",
    "                    break\n",
    "                # 标记[i, max_return_pos]的direction标签\n",
    "                for k in range(i, max_return_pos + 1):\n",
    "                    ohlcv.iloc[k]['direction'] = direction\n",
    "                    i = max_return_pos + 1\n",
    "                    break\n",
    "        else:\n",
    "            # 未达到最大回撤\n",
    "            continue\n",
    "    return ohlcv"
   ]
  },
  {
   "cell_type": "code",
   "execution_count": null,
   "metadata": {
    "collapsed": true
   },
   "outputs": [],
   "source": []
  },
  {
   "cell_type": "code",
   "execution_count": null,
   "metadata": {
    "collapsed": true
   },
   "outputs": [],
   "source": [
    "d = tag_wave_direction(xx, 0.1, 0.01, 0.03)"
   ]
  },
  {
   "cell_type": "code",
   "execution_count": null,
   "metadata": {
    "collapsed": false
   },
   "outputs": [],
   "source": [
    "d['direction'].fillna(0).plot()"
   ]
  },
  {
   "cell_type": "code",
   "execution_count": null,
   "metadata": {
    "collapsed": true
   },
   "outputs": [],
   "source": []
  }
 ],
 "metadata": {
  "kernelspec": {
   "display_name": "Python 2",
   "language": "python",
   "name": "python2"
  },
  "language_info": {
   "codemirror_mode": {
    "name": "ipython",
    "version": 2
   },
   "file_extension": ".py",
   "mimetype": "text/x-python",
   "name": "python",
   "nbconvert_exporter": "python",
   "pygments_lexer": "ipython2",
   "version": "2.7.10"
  }
 },
 "nbformat": 4,
 "nbformat_minor": 1
}
